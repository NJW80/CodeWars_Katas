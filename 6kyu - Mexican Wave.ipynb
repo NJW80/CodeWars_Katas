{
 "cells": [
  {
   "cell_type": "code",
   "execution_count": 236,
   "metadata": {},
   "outputs": [],
   "source": [
    "def wave(text):\n",
    "    result = []\n",
    "    for pos in range(len(text)):\n",
    "        word = ''\n",
    "        if text[pos] == ' ':\n",
    "            continue\n",
    "        for i in range(len(text)):\n",
    "            if i == pos:\n",
    "                word += text[i].upper()\n",
    "            else:\n",
    "                word += text[i]\n",
    "        result.append(word)\n",
    "    return(result)    "
   ]
  }
 ],
 "metadata": {
  "kernelspec": {
   "display_name": "Python 3",
   "language": "python",
   "name": "python3"
  },
  "language_info": {
   "codemirror_mode": {
    "name": "ipython",
    "version": 3
   },
   "file_extension": ".py",
   "mimetype": "text/x-python",
   "name": "python",
   "nbconvert_exporter": "python",
   "pygments_lexer": "ipython3",
   "version": "3.6.5"
  }
 },
 "nbformat": 4,
 "nbformat_minor": 2
}
