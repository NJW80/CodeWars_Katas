{
 "cells": [
  {
   "cell_type": "markdown",
   "metadata": {},
   "source": [
    "# my workings/research"
   ]
  },
  {
   "cell_type": "code",
   "execution_count": 119,
   "metadata": {},
   "outputs": [],
   "source": [
    "the_string = 'aeabcdeee'"
   ]
  },
  {
   "cell_type": "code",
   "execution_count": 120,
   "metadata": {},
   "outputs": [
    {
     "name": "stdout",
     "output_type": "stream",
     "text": [
      "defaultdict(<class 'int'>, {'a': 2, 'e': 4, 'b': 1, 'c': 1, 'd': 1})\n",
      "Counter({'e': 4, 'a': 2, 'b': 1, 'c': 1, 'd': 1})\n"
     ]
    }
   ],
   "source": [
    "# Methods that require collections module\n",
    "import collections\n",
    "\n",
    "## Method 1\n",
    "d = collections.defaultdict(int)\n",
    "for s in the_string:\n",
    "    d[s] += 1\n",
    "print(d)\n",
    "\n",
    "## Method 2\n",
    "results = collections.Counter(the_string)\n",
    "print(results)"
   ]
  },
  {
   "cell_type": "markdown",
   "metadata": {},
   "source": [
    "# My Solution"
   ]
  },
  {
   "cell_type": "code",
   "execution_count": 121,
   "metadata": {},
   "outputs": [],
   "source": [
    "def duplicate_count(text):\n",
    "    text = str.lower(text)\n",
    "    a = dict.fromkeys(text, 0)\n",
    "    for b in text: \n",
    "        a[b] += 1\n",
    "\n",
    "    duplicates = {}\n",
    "    for c in a.keys():\n",
    "        if a[c] > 1:\n",
    "            duplicates.update({c: a[c]})\n",
    "    return len(duplicates)"
   ]
  },
  {
   "cell_type": "code",
   "execution_count": 122,
   "metadata": {},
   "outputs": [
    {
     "name": "stdout",
     "output_type": "stream",
     "text": [
      "0\n",
      "1\n",
      "1\n",
      "1\n"
     ]
    }
   ],
   "source": [
    "# Sample Tests\n",
    "print(duplicate_count('abcde'))\n",
    "print(duplicate_count('abcdeA'))\n",
    "print(duplicate_count('indivisibility'))\n",
    "print(duplicate_count('12013'))"
   ]
  },
  {
   "cell_type": "markdown",
   "metadata": {},
   "source": [
    "# Best answer by tpatja, nkrause323, alpen0, lixiang, Kulit, timm liu"
   ]
  },
  {
   "cell_type": "code",
   "execution_count": null,
   "metadata": {},
   "outputs": [],
   "source": [
    "def duplicate_count(s):\n",
    "  return len([c for c in set(s.lower()) if s.lower().count(c)>1])"
   ]
  },
  {
   "cell_type": "code",
   "execution_count": 136,
   "metadata": {},
   "outputs": [
    {
     "name": "stdout",
     "output_type": "stream",
     "text": [
      "b occurs 1 times\n",
      "d occurs 2 times\n",
      "a occurs 2 times\n",
      "c occurs 1 times\n",
      "1 occurs 2 times\n",
      "['d', 'a', '1']\n",
      "3\n"
     ]
    }
   ],
   "source": [
    "# understanding the best solution\n",
    "s = 'abcdAD11'\n",
    "for c in set(s.lower()):\n",
    "    print(\"{0} occurs {1} times\".format(c,s.lower().count(c)))\n",
    "    \n",
    "lst_comp = [x for x in set(s.lower()) if s.lower().count(x) > 1]\n",
    "print(lst_comp)\n",
    "print(len(lst_comp))\n",
    "\n",
    "answer = len([x for x in set(s.lower()) if s.lower().count(x) > 1])"
   ]
  },
  {
   "cell_type": "code",
   "execution_count": null,
   "metadata": {},
   "outputs": [],
   "source": []
  }
 ],
 "metadata": {
  "kernelspec": {
   "display_name": "Python 3",
   "language": "python",
   "name": "python3"
  },
  "language_info": {
   "codemirror_mode": {
    "name": "ipython",
    "version": 3
   },
   "file_extension": ".py",
   "mimetype": "text/x-python",
   "name": "python",
   "nbconvert_exporter": "python",
   "pygments_lexer": "ipython3",
   "version": "3.6.5"
  }
 },
 "nbformat": 4,
 "nbformat_minor": 2
}
