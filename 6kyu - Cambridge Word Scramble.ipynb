{
 "cells": [
  {
   "cell_type": "code",
   "execution_count": 123,
   "metadata": {},
   "outputs": [],
   "source": [
    "import random\n",
    "import re\n",
    "import numpy as np\n",
    "\n",
    "def mix_words(text):\n",
    "    words_list = text.split()\n",
    "    result_list = []\n",
    "\n",
    "    for word in words_list:\n",
    "        punctuation = ''.join(re.findall(\"\\W\", word))\n",
    "        # punctuation = ''.join(re.findall(\"[^a-zA-Z]\", word))  #equivalent to line above, get non-alphanumeric characters\n",
    "        \n",
    "        # create 2 lists, the 1st as the word split into a list, the 2nd an empty list of the same size that will\n",
    "        # be get filled in sequentially\n",
    "        text_list = [x for x in word]\n",
    "        blank_list = ['' for x in range(len(word))]\n",
    "\n",
    "        # need to isolate the middle part of the word (not 1st, last, punctuation)\n",
    "        # assumption that any punctuation is at the end of each word. e.g. hello!, not hel?lo\n",
    "        lst = [x for x in range(1, ( len(text_list) - (len(punctuation) + 1) ))]\n",
    "        lst2 = lst[:]\n",
    "\n",
    "        # if there is only 1 randmisable character its position can't be changed  \n",
    "        if len(lst) > 1:\n",
    "            # shuffle the order of the randomisable characters, shuffle could return the same order (by chance) so perform\n",
    "            # this operation inside a while loop\n",
    "            while (np.array_equal(lst,lst2)):\n",
    "                random.shuffle(lst2)\n",
    "\n",
    "            # j variable is a counter for which element to take from the randomised characters list\n",
    "            j = 0\n",
    "            for i in range(len(word)):\n",
    "                if i == 0: \n",
    "                    # Keep first character in position\n",
    "                    blank_list[i] = text_list[i]\n",
    "                elif (len(punctuation) > 0) and ((text_list[i] in punctuation) or (text_list[i+1] in punctuation)):\n",
    "                    # Keep punctuation and last character (if there's punctuation) in position\n",
    "                    blank_list[i] = text_list[i]\n",
    "                elif (len(punctuation) == 0) and (i == len(word)-1):\n",
    "                    # Keep last character in position, if no punctuation\n",
    "                    blank_list[i] = text_list[i]\n",
    "                else:\n",
    "                    # if the character is not punctuation or first/last character then take from the randomised list\n",
    "                    blank_list[i] = text_list[lst2[j]]\n",
    "                    j += 1\n",
    "\n",
    "            new_text = ''.join(blank_list)\n",
    "            # join the individual list elements for each word together to create the randomised word\n",
    "            result_list.append(new_text)\n",
    "            # append the \n",
    "        else:\n",
    "            # if the word is less than 3 characters return the original word\n",
    "            result_list.append(word)\n",
    "    result = ''.join([item + ' ' for item in result_list]).strip()\n",
    "    \n",
    "    if (len(lst) > 2) & (result == text):\n",
    "        result = mix_words(text)\n",
    "            \n",
    "    return result"
   ]
  },
  {
   "cell_type": "code",
   "execution_count": 124,
   "metadata": {},
   "outputs": [
    {
     "name": "stdout",
     "output_type": "stream",
     "text": [
      "hlleo\n",
      "hlelo\n",
      "hlelo\n",
      "hlelo\n",
      "hlelo\n",
      "hlleo\n",
      "hlleo\n",
      "hlleo\n",
      "hlelo\n",
      "hlelo\n",
      "hlelo\n"
     ]
    }
   ],
   "source": [
    "# Samle tests\n",
    "for i in range(11):\n",
    "    print(mix_words('hello'))\n",
    "# print(mix_words('hello, Pippi!'))\n",
    "# print(mix_words('hi'))\n",
    "# print(mix_words('hi!'))\n",
    "# print(mix_words('hey!'))\n",
    "# print(mix_words('hey'))"
   ]
  },
  {
   "cell_type": "code",
   "execution_count": null,
   "metadata": {},
   "outputs": [],
   "source": [
    "# This solution works - backup, don't change\n",
    "import random\n",
    "import re\n",
    "import numpy as np\n",
    "\n",
    "def mix_words(text):\n",
    "    words_list = text.split()\n",
    "    temp_result = []\n",
    "\n",
    "    for word in words_list:\n",
    "#         alphas = ''.join(re.findall(\"\\w\", word))\n",
    "        # alphas = re.findall(\"[a-zA-Z]\", word)  #equivalent to line above, get alphanumeric characters\n",
    "        punctuation = ''.join(re.findall(\"\\W\", word))\n",
    "        # punctuation = ''.join(re.findall(\"[^a-zA-Z]\", word))  #equivalent to line above, get non-alphanumeric characters\n",
    "        text_list = [x for x in word]\n",
    "        blank_list = ['' for x in range(len(word))]\n",
    "\n",
    "        lst = [x for x in range(1, ( len(text_list) - (len(punctuation) + 1) ))]\n",
    "        # assumption that any punctuation is at the end of each word. e.g. hello!, not hel?lo\n",
    "        lst2 = lst[:]\n",
    "\n",
    "        if len(lst) > 2:\n",
    "            while (np.array_equal(lst,lst2)):\n",
    "                random.shuffle(lst2)\n",
    "\n",
    "            j = 0\n",
    "            for i in range(len(word)):\n",
    "                if i == 0: \n",
    "                    # Keep first character in position\n",
    "                    blank_list[i] = text_list[i]\n",
    "                elif (len(punctuation) > 0) and ((text_list[i] in punctuation) or (text_list[i+1] in punctuation)):\n",
    "                    # Keep punctuation and last character (if there's punctuation) in position\n",
    "                    blank_list[i] = text_list[i]\n",
    "                elif (len(punctuation) == 0) and (i == len(word)-1):\n",
    "                    # Keep last character in position, if no punctuation\n",
    "                    blank_list[i] = text_list[i]\n",
    "                else:\n",
    "                    # if the character is not punctuation or first/last character then take from the randomised list\n",
    "                    blank_list[i] = text_list[lst2[j]]\n",
    "                    j += 1\n",
    "\n",
    "            text_s = ''.join(blank_list)\n",
    "            # join the individual list elements for each word together to create the randomised word\n",
    "            temp_result.append(text_s)\n",
    "            # append the \n",
    "        else:\n",
    "            # if the word is less than 3 characters return the original word\n",
    "            temp_result.append(word)\n",
    "            \n",
    "    return ''.join([item + ' ' for item in temp_result]).strip()"
   ]
  },
  {
   "cell_type": "code",
   "execution_count": 172,
   "metadata": {},
   "outputs": [],
   "source": [
    "# original_list = np.array([7, 14, 21])\n",
    "# new_list = original_list.copy()\n",
    "# print (\"Original list : \",  original_list)\n",
    "# random.shuffle(new_list) #shuffle method\n",
    "# print (\"List after first shuffle  : \",  new_list)\n",
    "\n",
    "# diff_order = 0\n",
    "# for i in range(len(new_list)):\n",
    "#     print()\n",
    "#     print(i)\n",
    "#     print(new_list[i])\n",
    "#     print(original_list[i])    \n",
    "#     if new_list[i] != original_list[i]: \n",
    "#         diff_order = 1\n",
    "#         break"
   ]
  },
  {
   "cell_type": "code",
   "execution_count": 173,
   "metadata": {},
   "outputs": [],
   "source": [
    "# array_1 = np.array([1,2,3])\n",
    "# array_2 = np.array([1,3,2])\n",
    "# np.array_equal(array_1,array_2)\n",
    "# (array_1 == array_2).all()"
   ]
  },
  {
   "cell_type": "code",
   "execution_count": 174,
   "metadata": {},
   "outputs": [],
   "source": [
    "# language = ['Python', 'Java', 'C++', 'Ruby', 'C']\n",
    "# test_text = ''.join([item + ' ' for item in language])\n",
    "# print(test_text)"
   ]
  },
  {
   "cell_type": "markdown",
   "metadata": {},
   "source": [
    "# Best solution"
   ]
  },
  {
   "cell_type": "code",
   "execution_count": 1,
   "metadata": {},
   "outputs": [],
   "source": [
    "from random import shuffle\n",
    "import re\n",
    "\n",
    "def mix_words(s):\n",
    "    if not isinstance(s, basestring):\n",
    "        return None\n",
    "    def f(m):\n",
    "        s = m.group()\n",
    "        if len(s) < 3:\n",
    "            return s\n",
    "        cs = list(s)\n",
    "        shuffle(cs)\n",
    "        return ''.join(cs)\n",
    "    return re.sub(r'\\B[A-Za-z]+\\B', f, s)"
   ]
  },
  {
   "cell_type": "code",
   "execution_count": 2,
   "metadata": {},
   "outputs": [
    {
     "ename": "NameError",
     "evalue": "name 'basestring' is not defined",
     "output_type": "error",
     "traceback": [
      "\u001b[1;31m---------------------------------------------------------------------------\u001b[0m",
      "\u001b[1;31mNameError\u001b[0m                                 Traceback (most recent call last)",
      "\u001b[1;32m<ipython-input-2-a40e5537cdc7>\u001b[0m in \u001b[0;36m<module>\u001b[1;34m()\u001b[0m\n\u001b[0;32m      1\u001b[0m \u001b[1;32mfor\u001b[0m \u001b[0mi\u001b[0m \u001b[1;32min\u001b[0m \u001b[0mrange\u001b[0m\u001b[1;33m(\u001b[0m\u001b[1;36m11\u001b[0m\u001b[1;33m)\u001b[0m\u001b[1;33m:\u001b[0m\u001b[1;33m\u001b[0m\u001b[0m\n\u001b[1;32m----> 2\u001b[1;33m     \u001b[0mprint\u001b[0m\u001b[1;33m(\u001b[0m\u001b[0mmix_words\u001b[0m\u001b[1;33m(\u001b[0m\u001b[1;34m'hello'\u001b[0m\u001b[1;33m)\u001b[0m\u001b[1;33m)\u001b[0m\u001b[1;33m\u001b[0m\u001b[0m\n\u001b[0m\u001b[0;32m      3\u001b[0m \u001b[1;32mfor\u001b[0m \u001b[0mi\u001b[0m \u001b[1;32min\u001b[0m \u001b[0mrange\u001b[0m\u001b[1;33m(\u001b[0m\u001b[1;36m11\u001b[0m\u001b[1;33m)\u001b[0m\u001b[1;33m:\u001b[0m\u001b[1;33m\u001b[0m\u001b[0m\n\u001b[0;32m      4\u001b[0m     \u001b[0mprint\u001b[0m\u001b[1;33m(\u001b[0m\u001b[0mmix_words\u001b[0m\u001b[1;33m(\u001b[0m\u001b[1;34m'hello, Pippi!'\u001b[0m\u001b[1;33m)\u001b[0m\u001b[1;33m)\u001b[0m\u001b[1;33m\u001b[0m\u001b[0m\n\u001b[0;32m      5\u001b[0m \u001b[1;31m# print(mix_words('hi'))\u001b[0m\u001b[1;33m\u001b[0m\u001b[1;33m\u001b[0m\u001b[0m\n",
      "\u001b[1;32m<ipython-input-1-5ae6373d382d>\u001b[0m in \u001b[0;36mmix_words\u001b[1;34m(s)\u001b[0m\n\u001b[0;32m      3\u001b[0m \u001b[1;33m\u001b[0m\u001b[0m\n\u001b[0;32m      4\u001b[0m \u001b[1;32mdef\u001b[0m \u001b[0mmix_words\u001b[0m\u001b[1;33m(\u001b[0m\u001b[0ms\u001b[0m\u001b[1;33m)\u001b[0m\u001b[1;33m:\u001b[0m\u001b[1;33m\u001b[0m\u001b[0m\n\u001b[1;32m----> 5\u001b[1;33m     \u001b[1;32mif\u001b[0m \u001b[1;32mnot\u001b[0m \u001b[0misinstance\u001b[0m\u001b[1;33m(\u001b[0m\u001b[0ms\u001b[0m\u001b[1;33m,\u001b[0m \u001b[0mbasestring\u001b[0m\u001b[1;33m)\u001b[0m\u001b[1;33m:\u001b[0m\u001b[1;33m\u001b[0m\u001b[0m\n\u001b[0m\u001b[0;32m      6\u001b[0m         \u001b[1;32mreturn\u001b[0m \u001b[1;32mNone\u001b[0m\u001b[1;33m\u001b[0m\u001b[0m\n\u001b[0;32m      7\u001b[0m     \u001b[1;32mdef\u001b[0m \u001b[0mf\u001b[0m\u001b[1;33m(\u001b[0m\u001b[0mm\u001b[0m\u001b[1;33m)\u001b[0m\u001b[1;33m:\u001b[0m\u001b[1;33m\u001b[0m\u001b[0m\n",
      "\u001b[1;31mNameError\u001b[0m: name 'basestring' is not defined"
     ]
    }
   ],
   "source": [
    "for i in range(11):\n",
    "    print(mix_words('hello'))\n",
    "for i in range(11):\n",
    "    print(mix_words('hello, Pippi!'))\n",
    "# print(mix_words('hi'))\n",
    "# print(mix_words('hi!'))\n",
    "# print(mix_words('hey!'))\n",
    "# print(mix_words('hey'))"
   ]
  },
  {
   "cell_type": "code",
   "execution_count": 3,
   "metadata": {},
   "outputs": [],
   "source": [
    "import re\n",
    "from random import sample\n",
    "\n",
    "def mix_words(string):\n",
    "    return re.sub(\n",
    "        r'(?<=[a-zA-Z])([a-zA-Z]{2,})(?=[a-zA-Z])',\n",
    "        lambda match: ''.join(sample(match.group(1), len(match.group(1)))),\n",
    "        string)"
   ]
  },
  {
   "cell_type": "code",
   "execution_count": 4,
   "metadata": {},
   "outputs": [
    {
     "name": "stdout",
     "output_type": "stream",
     "text": [
      "hlelo\n",
      "hlelo\n",
      "hlleo\n",
      "hello\n",
      "hlleo\n",
      "hello\n",
      "hlleo\n",
      "hlleo\n",
      "hlelo\n",
      "hlleo\n",
      "hello\n",
      "hlleo, Ppipi!\n",
      "hlleo, Pippi!\n",
      "hello, Pppii!\n",
      "hlelo, Ppipi!\n",
      "hlelo, Pppii!\n",
      "hlleo, Ppipi!\n",
      "hlleo, Pppii!\n",
      "hello, Pppii!\n",
      "hlleo, Ppipi!\n",
      "hlleo, Ppipi!\n",
      "hello, Pippi!\n"
     ]
    }
   ],
   "source": [
    "for i in range(11):\n",
    "    print(mix_words('hello'))\n",
    "for i in range(11):\n",
    "    print(mix_words('hello, Pippi!'))"
   ]
  },
  {
   "cell_type": "code",
   "execution_count": null,
   "metadata": {},
   "outputs": [],
   "source": []
  }
 ],
 "metadata": {
  "kernelspec": {
   "display_name": "Python 3",
   "language": "python",
   "name": "python3"
  },
  "language_info": {
   "codemirror_mode": {
    "name": "ipython",
    "version": 3
   },
   "file_extension": ".py",
   "mimetype": "text/x-python",
   "name": "python",
   "nbconvert_exporter": "python",
   "pygments_lexer": "ipython3",
   "version": "3.6.5"
  }
 },
 "nbformat": 4,
 "nbformat_minor": 2
}
