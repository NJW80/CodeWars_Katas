{
 "cells": [
  {
   "cell_type": "code",
   "execution_count": 2,
   "metadata": {},
   "outputs": [],
   "source": [
    "# For Python 3.x\n",
    "\n",
    "import re\n",
    "import math\n",
    "\n",
    "def moving_shift(s, shift):\n",
    "    alphabet = \"abcdefghijklmnopqrstuvwxyz\"\n",
    "    result_list = []\n",
    "    for i in range(len(s)):\n",
    "        if s[i] in ''.join(re.findall(\"\\W\", s)):\n",
    "            result_list.append(s[i])\n",
    "        else:\n",
    "            result_list.append(alphabet[alphabet.index(str.lower(s[i])) + (i - (int((alphabet.index(str.lower(s[i]))+i+shift) / 25) * 26)) + shift])\n",
    "\n",
    "    result_list[0] = str.upper(result_list[0])\n",
    "    result = ''.join(result_list)\n",
    "\n",
    "    lst = [0,0,0,0,0]\n",
    "    counter = 0\n",
    "    while (sum(lst) + math.ceil(len(s)/5)) < len(s):\n",
    "        lst[counter] = math.ceil(len(s)/5)\n",
    "        counter += 1\n",
    "    lst[counter] = (len(s) - sum(lst))\n",
    "\n",
    "    msg_list = [[],[],[],[],[]]\n",
    "    msg = []\n",
    "    msg_counter = 0\n",
    "    for i in range(5):\n",
    "        for j in range(int(lst[i])):\n",
    "            msg_list[i].append(result[msg_counter])\n",
    "            msg_counter += 1\n",
    "        new_text = ''.join(msg_list[i])\n",
    "        msg.append(new_text)\n",
    "\n",
    "    return msg\n",
    "\n",
    "\n",
    "def demoving_shift(s, shift):\n",
    "    alphabet = \"abcdefghijklmnopqrstuvwxyz\"\n",
    "    alphabet = list(reversed(alphabet))\n",
    "    text = ''.join(s)\n",
    "    result_list = []\n",
    "    for i in range(len(text)):\n",
    "        if text[i] in ''.join(re.findall(\"\\W\", text)):\n",
    "            result_list.append(text[i])\n",
    "        else:\n",
    "            result_list.append(alphabet[alphabet.index(str.lower(text[i])) + (i - (int((alphabet.index(str.lower(text[i]))+i+shift) / 25) * 26)) + shift])\n",
    "            \n",
    "    result_list[0] = str.upper(result_list[0])\n",
    "    cipher = ''.join(result_list)\n",
    "\n",
    "    lst = [0,0,0,0,0]\n",
    "    counter = 0\n",
    "    while (sum(lst) + math.ceil(len(text)/5)) < len(text):\n",
    "        lst[counter] = math.ceil(len(text)/5)\n",
    "        counter += 1\n",
    "    lst[counter] = (len(text) - sum(lst))\n",
    "\n",
    "    msg_list = [[],[],[],[],[]]\n",
    "    msg = []\n",
    "    msg_counter = 0\n",
    "    for i in range(5):\n",
    "        for j in range(lst[i]):\n",
    "            msg_list[i].append(cipher[msg_counter])\n",
    "            msg_counter += 1\n",
    "        new_text = ''.join(msg_list[i])\n",
    "        msg.append(new_text)\n",
    "        final_result = ''.join(msg)\n",
    "\n",
    "    return final_result"
   ]
  },
  {
   "cell_type": "code",
   "execution_count": 4,
   "metadata": {},
   "outputs": [
    {
     "name": "stdout",
     "output_type": "stream",
     "text": [
      "['J os', 'ak g', 'xe n', 'npn!', '!!']\n"
     ]
    }
   ],
   "source": [
    "# print( moving_shift(\"I should have known that you would have a perfect answer for me!!!\", 1 ))\n",
    "# print( moving_shift(\"I love you baby!!!\", 1 ))"
   ]
  },
  {
   "cell_type": "code",
   "execution_count": 37,
   "metadata": {
    "scrolled": true
   },
   "outputs": [
    {
     "name": "stdout",
     "output_type": "stream",
     "text": [
      "I should have known that you would have a perfect answer for me!!!\n"
     ]
    }
   ],
   "source": [
    "# print( demoving_shift(['J vltasl rlhr ', 'zdfog odxr ypw', ' atasl rlhr p ', 'gwkzzyq zntyhv', ' lvz wp!!!'], 1 ))\n",
    "print( demoving_shift(['J os', 'ak g', 'xe n', 'npn!', '!!'], 1 ))"
   ]
  },
  {
   "cell_type": "code",
   "execution_count": 52,
   "metadata": {},
   "outputs": [],
   "source": [
    "# For Python 2.7.x\n",
    "\n",
    "import re\n",
    "import math\n",
    "\n",
    "def moving_shift(s, shift):\n",
    "    alphabet = \"abcdefghijklmnopqrstuvwxyz\"\n",
    "    result_list = []\n",
    "    for i in range(len(s)):\n",
    "        if s[i] in ''.join(re.findall(\"[^a-zA-Z]\", s)):\n",
    "            result_list.append(s[i])\n",
    "        else:\n",
    "            if s[i].isupper():\n",
    "                result_list.append(alphabet[alphabet.index(str.lower(s[i])) + (i - (int((alphabet.index(str.lower(s[i]))+i+shift) / 25) * 26)) + shift].upper())\n",
    "            else:\n",
    "                result_list.append(alphabet[alphabet.index(str.lower(s[i])) + (i - (int((alphabet.index(str.lower(s[i]))+i+shift) / 25) * 26)) + shift])\n",
    "\n",
    "    result = ''.join(result_list)\n",
    "\n",
    "    lst = [0,0,0,0,0]\n",
    "    counter = 0\n",
    "    # in Python 2.7.x dividing by an integer returns the floor not the true division\n",
    "    while (sum(lst) + math.ceil(len(s)/float(5))) < len(s):\n",
    "        lst[counter] = math.ceil(len(s)/float(5))\n",
    "        counter += 1\n",
    "    lst[counter] = (len(s) - sum(lst))\n",
    "\n",
    "    msg_list = [[],[],[],[],[]]\n",
    "    msg = []\n",
    "    msg_counter = 0\n",
    "    for i in range(5):\n",
    "        for j in range(int(lst[i])):\n",
    "            msg_list[i].append(result[msg_counter])\n",
    "            msg_counter += 1\n",
    "        new_text = ''.join(msg_list[i])\n",
    "        msg.append(new_text)\n",
    "\n",
    "    return msg\n",
    "\n",
    "\n",
    "def demoving_shift(s, shift):\n",
    "    alphabet = \"abcdefghijklmnopqrstuvwxyz\"\n",
    "    alphabet = list(reversed(alphabet))\n",
    "    text = ''.join(s)\n",
    "    result_list = []\n",
    "    for i in range(len(text)):\n",
    "        if text[i] in ''.join(re.findall(\"[^a-zA-Z]\", text)):\n",
    "            result_list.append(text[i])\n",
    "        else:\n",
    "            if text[i].isupper():\n",
    "                result_list.append(alphabet[alphabet.index(str.lower(text[i])) + (i - (int((alphabet.index(str.lower(text[i]))+i+shift) / 25) * 26)) + shift].upper())\n",
    "            else:\n",
    "                result_list.append(alphabet[alphabet.index(str.lower(text[i])) + (i - (int((alphabet.index(str.lower(text[i]))+i+shift) / 25) * 26)) + shift])\n",
    "\n",
    "    cipher = ''.join(result_list)\n",
    "\n",
    "    lst = [0,0,0,0,0]\n",
    "    counter = 0\n",
    "    while (sum(lst) + math.ceil(len(text)/float(5))) < len(text):\n",
    "        lst[counter] = math.ceil(len(text)/float(5))\n",
    "        counter += 1\n",
    "    lst[counter] = (len(text) - sum(lst))\n",
    "\n",
    "    msg_list = [[],[],[],[],[]]\n",
    "    msg = []\n",
    "    msg_counter = 0\n",
    "    for i in range(5):\n",
    "        for j in range(int(lst[i])):\n",
    "            msg_list[i].append(cipher[msg_counter])\n",
    "            msg_counter += 1\n",
    "        new_text = ''.join(msg_list[i])\n",
    "        msg.append(new_text)\n",
    "        final_result = ''.join(msg)\n",
    "\n",
    "    return final_result"
   ]
  },
  {
   "cell_type": "code",
   "execution_count": 5,
   "metadata": {},
   "outputs": [
    {
     "name": "stdout",
     "output_type": "stream",
     "text": [
      "I love you baby!!!\n"
     ]
    }
   ],
   "source": [
    "print( demoving_shift(['J os', 'ak g', 'xe n', 'npn!', '!!'], 1 ))"
   ]
  },
  {
   "cell_type": "markdown",
   "metadata": {},
   "source": [
    "# Best Answer"
   ]
  },
  {
   "cell_type": "code",
   "execution_count": null,
   "metadata": {},
   "outputs": [],
   "source": [
    "from string import ascii_lowercase as abc, ascii_uppercase as ABC\n",
    "from math import ceil\n",
    "\n",
    "def _code(string, shift, mode):\n",
    "    return ''.join(\n",
    "        abc[(abc.index(c) + i*mode + shift) % len(abc)] if c in abc else\n",
    "        ABC[(ABC.index(c) + i*mode + shift) % len(ABC)] if c in ABC else c\n",
    "        for i, c in enumerate(string))\n",
    "\n",
    "def moving_shift(string, shift):\n",
    "    encoded = _code(string, shift, 1)\n",
    "    cut = int(ceil(len(encoded) / 5.0))\n",
    "    return [encoded[i : i+cut] for i in range(0, 5 * cut, cut)]\n",
    "\n",
    "def demoving_shift(arr, shift):\n",
    "    return _code(''.join(arr), -shift, -1)"
   ]
  }
 ],
 "metadata": {
  "kernelspec": {
   "display_name": "Python 3",
   "language": "python",
   "name": "python3"
  },
  "language_info": {
   "codemirror_mode": {
    "name": "ipython",
    "version": 3
   },
   "file_extension": ".py",
   "mimetype": "text/x-python",
   "name": "python",
   "nbconvert_exporter": "python",
   "pygments_lexer": "ipython3",
   "version": "3.6.5"
  }
 },
 "nbformat": 4,
 "nbformat_minor": 2
}
