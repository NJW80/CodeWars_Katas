{
 "cells": [
  {
   "cell_type": "code",
   "execution_count": 40,
   "metadata": {},
   "outputs": [],
   "source": [
    "# files = ['Lakey - Better days.mp3',\n",
    "#          'Wheathan - Superlove.wav', \n",
    "#          'groovy jam.als', \n",
    "#          '#4 final mixdown.als', \n",
    "#          'album cover.ps', \n",
    "#          'good nights.mp3']\n",
    "\n",
    "files = ['Lakey - Better days.mp3', \n",
    "         'Fisher - Stop it.mp3', \n",
    "         'Fisher - Losing it.mp3', \n",
    "         '#4 final mixdown.als', \n",
    "         'album cover.ps', \n",
    "         'good nights.mp3']"
   ]
  },
  {
   "cell_type": "code",
   "execution_count": 47,
   "metadata": {},
   "outputs": [],
   "source": [
    "# filetypes = [str.lower(x.split('.')[-1]) for x in files]\n",
    "# print(filetypes)"
   ]
  },
  {
   "cell_type": "code",
   "execution_count": 48,
   "metadata": {},
   "outputs": [],
   "source": [
    "# from collections import Counter\n",
    "# c=Counter(filetypes)\n",
    "\n",
    "# grouped_filetypes = dict(sorted(c.items(), key = lambda x:(-x[1], x[0]) , reverse=False))\n",
    "\n",
    "# result = [key for key, value in grouped_filetypes.items() if value == max(grouped_filetypes.values())]\n",
    "# print(result)"
   ]
  },
  {
   "cell_type": "code",
   "execution_count": 61,
   "metadata": {},
   "outputs": [],
   "source": [
    "from collections import Counter\n",
    "\n",
    "def solve(input_list):\n",
    "    c=Counter(['.' + x.split('.')[-1] for x in input_list])\n",
    "#     c=Counter(['.' + str.lower(x.split('.')[-1]) for x in input_list])\n",
    "    grouped_filetypes = dict(sorted(c.items(), key = lambda x:(-x[1], x[0]) , reverse=False))\n",
    "    result = [key for key, value in grouped_filetypes.items() if value == max(grouped_filetypes.values())]\n",
    "    \n",
    "    return result"
   ]
  },
  {
   "cell_type": "code",
   "execution_count": 62,
   "metadata": {},
   "outputs": [
    {
     "name": "stdout",
     "output_type": "stream",
     "text": [
      "['.mp3']\n"
     ]
    }
   ],
   "source": [
    "files = ['Lakey - Better days.mp3', \n",
    "         'Fisher - Stop it.mp3', \n",
    "         'Fisher - Losing it.mp3', \n",
    "         '#4 final mixdown.als', \n",
    "         'album cover.ps', \n",
    "         'good nights.mp3']\n",
    "print(solve(files))"
   ]
  },
  {
   "cell_type": "code",
   "execution_count": 63,
   "metadata": {},
   "outputs": [
    {
     "name": "stdout",
     "output_type": "stream",
     "text": [
      "['.als', '.mp3']\n"
     ]
    }
   ],
   "source": [
    "files = ['Lakey - Better days.mp3',\n",
    "         'Wheathan - Superlove.wav', \n",
    "         'groovy jam.als', \n",
    "         '#4 final mixdown.als', \n",
    "         'album cover.ps', \n",
    "         'good nights.mp3']\n",
    "print(solve(files))"
   ]
  },
  {
   "cell_type": "code",
   "execution_count": 64,
   "metadata": {},
   "outputs": [
    {
     "name": "stdout",
     "output_type": "stream",
     "text": [
      "['.mp3']\n"
     ]
    }
   ],
   "source": [
    "files = ['Lakey - Better days.mp3',\n",
    "         'Lakey - Better days2.MP3',\n",
    "         'Lakey - Better days3.als.fff.mp3',\n",
    "         'Wheathan - Superlove.wav', \n",
    "         'groovy jam.als', \n",
    "         '#4 final mixdown.als', \n",
    "         'album cover.ps', \n",
    "         'good nights.mp3']\n",
    "print(solve(files))"
   ]
  },
  {
   "cell_type": "markdown",
   "metadata": {},
   "source": [
    "# best solution"
   ]
  },
  {
   "cell_type": "code",
   "execution_count": 65,
   "metadata": {},
   "outputs": [],
   "source": [
    "from collections import Counter\n",
    "import re\n",
    "\n",
    "def solve(files):\n",
    "    c = Counter(re.match('.*(\\.[^.]+)$', fn).group(1) for fn in files)\n",
    "    m = max(c.values(),default=0)\n",
    "    return sorted(k for k in c if c[k] == m)"
   ]
  },
  {
   "cell_type": "code",
   "execution_count": 66,
   "metadata": {},
   "outputs": [
    {
     "name": "stdout",
     "output_type": "stream",
     "text": [
      "['.mp3']\n"
     ]
    }
   ],
   "source": [
    "files = ['Lakey - Better days.mp3',\n",
    "         'Lakey - Better days2.MP3',\n",
    "         'Lakey - Better days3.als.fff.mp3',\n",
    "         'Wheathan - Superlove.wav', \n",
    "         'groovy jam.als', \n",
    "         '#4 final mixdown.als', \n",
    "         'album cover.ps', \n",
    "         'good nights.mp3']\n",
    "print(solve(files))"
   ]
  },
  {
   "cell_type": "code",
   "execution_count": null,
   "metadata": {},
   "outputs": [],
   "source": []
  }
 ],
 "metadata": {
  "kernelspec": {
   "display_name": "Python 3",
   "language": "python",
   "name": "python3"
  },
  "language_info": {
   "codemirror_mode": {
    "name": "ipython",
    "version": 3
   },
   "file_extension": ".py",
   "mimetype": "text/x-python",
   "name": "python",
   "nbconvert_exporter": "python",
   "pygments_lexer": "ipython3",
   "version": "3.6.5"
  }
 },
 "nbformat": 4,
 "nbformat_minor": 2
}
