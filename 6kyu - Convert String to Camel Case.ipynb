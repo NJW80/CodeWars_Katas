{
 "cells": [
  {
   "cell_type": "markdown",
   "metadata": {},
   "source": [
    "# my solution"
   ]
  },
  {
   "cell_type": "code",
   "execution_count": 1,
   "metadata": {},
   "outputs": [],
   "source": [
    "def to_camel_case(text):\n",
    "    for i in range(len(text)):\n",
    "    if text[i] in ('-_'):\n",
    "        text = ''.join([text[:i+1], text[i+1].upper(), text[i+2:]])\n",
    "    text = text.replace('-','').replace('_','')\n",
    "    return(text)    "
   ]
  },
  {
   "cell_type": "code",
   "execution_count": null,
   "metadata": {},
   "outputs": [],
   "source": [
    "to_camel_case(\"the-stealth-warrior\")"
   ]
  },
  {
   "cell_type": "markdown",
   "metadata": {},
   "source": [
    "# best solution by anter69, lixiang, dkibet"
   ]
  },
  {
   "cell_type": "code",
   "execution_count": 63,
   "metadata": {},
   "outputs": [],
   "source": [
    "def to_camel_case_v2(s):\n",
    "    return s[0] + s.title().translate(str.maketrans({ord('-'):None,ord('_'):None}))[1:] if s else s"
   ]
  },
  {
   "cell_type": "code",
   "execution_count": 64,
   "metadata": {},
   "outputs": [
    {
     "name": "stdout",
     "output_type": "stream",
     "text": [
      "theStealthWarrior\n",
      "TheStealthWarrior\n",
      "The Stealth Warrior\n",
      "\n"
     ]
    }
   ],
   "source": [
    "print(to_camel_case_v2(\"the-stealth-warrior\"))\n",
    "print(to_camel_case_v2(\"The_stealth_warrior\"))\n",
    "print(to_camel_case_v2(\"The stealth warrior\"))\n",
    "print(to_camel_case_v2(\"\"))"
   ]
  },
  {
   "cell_type": "code",
   "execution_count": null,
   "metadata": {},
   "outputs": [],
   "source": []
  }
 ],
 "metadata": {
  "kernelspec": {
   "display_name": "Python 3",
   "language": "python",
   "name": "python3"
  },
  "language_info": {
   "codemirror_mode": {
    "name": "ipython",
    "version": 3
   },
   "file_extension": ".py",
   "mimetype": "text/x-python",
   "name": "python",
   "nbconvert_exporter": "python",
   "pygments_lexer": "ipython3",
   "version": "3.6.5"
  }
 },
 "nbformat": 4,
 "nbformat_minor": 2
}
