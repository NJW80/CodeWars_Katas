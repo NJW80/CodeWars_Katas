{
 "cells": [
  {
   "cell_type": "markdown",
   "metadata": {},
   "source": [
    "# My Solution"
   ]
  },
  {
   "cell_type": "code",
   "execution_count": 8,
   "metadata": {},
   "outputs": [],
   "source": [
    "import pandas as pd\n",
    "import numpy as np\n",
    "import math"
   ]
  },
  {
   "cell_type": "code",
   "execution_count": 24,
   "metadata": {},
   "outputs": [],
   "source": [
    "def testcase(n, a, b):\n",
    "    if ranking(a) == b:\n",
    "        msg = \"Test {} Passed\".format(n)\n",
    "    else:\n",
    "        msg = \"Test {} failed\".format(n)\n",
    "    return msg"
   ]
  },
  {
   "cell_type": "code",
   "execution_count": 25,
   "metadata": {},
   "outputs": [],
   "source": [
    "def ranking(people):\n",
    "    if len(people) == 0:\n",
    "        result = []\n",
    "    else:\n",
    "        df = pd.DataFrame(people)\n",
    "        ranked = df.rank(method = 'min', ascending=False)\n",
    "        df['position'] = [math.floor(x) for x in ranked['points']]\n",
    "        df = df.sort_values(by=['points', 'name'], ascending=[False, True])\n",
    "        df.reset_index(inplace=True)\n",
    "        df.drop(columns=['index'], inplace=True)\n",
    "        result = []\n",
    "        for r in range(len(df)):\n",
    "            row_ = dict(df.loc[r])\n",
    "            result.append(row_)\n",
    "    return result"
   ]
  },
  {
   "cell_type": "markdown",
   "metadata": {},
   "source": [
    "## Test cases"
   ]
  },
  {
   "cell_type": "code",
   "execution_count": 27,
   "metadata": {},
   "outputs": [
    {
     "name": "stdout",
     "output_type": "stream",
     "text": [
      "Test 1 Passed\n",
      "Test 2 Passed\n",
      "Test 3 Passed\n",
      "Test 4 Passed\n",
      "Test 5 Passed\n"
     ]
    }
   ],
   "source": [
    "# Test Case 1\n",
    "\n",
    "input_ = [{\"name\": \"John\",\"points\": 100,},\n",
    "          {\"name\": \"Bob\",\"points\": 130,},\n",
    "          {\"name\": \"Mary\",\"points\": 120,},\n",
    "          {\"name\": \"Kate\",\"points\": 120,},]\n",
    "\n",
    "output = [{\"name\": \"Bob\",\"points\": 130,\"position\": 1,},\n",
    "          {\"name\": \"Kate\",\"points\": 120,\"position\": 2,},\n",
    "          {\"name\": \"Mary\",\"points\": 120,\"position\": 2,},\n",
    "          {\"name\": \"John\",\"points\": 100,\"position\": 4,}]\n",
    "\n",
    "print(testcase(1, ranking(input_), output))\n",
    "\n",
    "\n",
    "# Test Case 2\n",
    "\n",
    "input_ = [{\"name\": \"Bob\",\"points\": 130,},\n",
    "          {\"name\": \"Mary\",\"points\": 120,},\n",
    "          {\"name\": \"John\",\"points\": 100,},]\n",
    "\n",
    "output = [{\"name\": \"Bob\",\"points\": 130,\"position\": 1,},\n",
    "          {\"name\": \"Mary\",\"points\": 120,\"position\": 2,},\n",
    "          {\"name\": \"John\",\"points\": 100,\"position\": 3,},]\n",
    "\n",
    "print(testcase(2, ranking(input_), output))\n",
    "\n",
    "# Test Case 3\n",
    "\n",
    "input_ = [{'name': 'Bob', 'points': 100},\n",
    "          {'name': 'John', 'points': 100}, \n",
    "          {'name': 'Mary', 'points': 100}]\n",
    "\n",
    "output = [{\"name\": \"Bob\",\"points\": 100,\"position\": 1,},\n",
    "          {\"name\": \"John\",\"points\": 100,\"position\": 1,},\n",
    "          {\"name\": \"Mary\",\"points\": 100,\"position\": 1,},]\n",
    "\n",
    "print(testcase(3, ranking(input_), output))\n",
    "\n",
    "\n",
    "# Test Case 4\n",
    "\n",
    "input_ = [{\"name\": \"Joe\", \"points\": 100}]\n",
    "\n",
    "output = [{\"name\": \"Joe\", \"points\": 100, \"position\": 1}]\n",
    "\n",
    "print(testcase(4, ranking(input_), output))\n",
    "\n",
    "\n",
    "# Test Case 5\n",
    "\n",
    "print(testcase(5, ranking([]), []))"
   ]
  },
  {
   "cell_type": "markdown",
   "metadata": {},
   "source": [
    "# Best ranked solution by FArekkusu"
   ]
  },
  {
   "cell_type": "code",
   "execution_count": 21,
   "metadata": {},
   "outputs": [],
   "source": [
    "def ranking_v2(a):\n",
    "    a.sort(key=lambda x: (-x[\"points\"], x[\"name\"]))\n",
    "    for i, x in enumerate(a):\n",
    "        x[\"position\"] = i + 1 if not i or x[\"points\"] < a[i-1][\"points\"] else a[i-1][\"position\"]\n",
    "    return a"
   ]
  },
  {
   "cell_type": "code",
   "execution_count": 32,
   "metadata": {},
   "outputs": [
    {
     "data": {
      "text/plain": [
       "list"
      ]
     },
     "execution_count": 32,
     "metadata": {},
     "output_type": "execute_result"
    }
   ],
   "source": [
    "#test cases\n",
    "\n",
    "input_ = [{\"name\": \"John\",\"points\": 100,},\n",
    "          {\"name\": \"Bob\",\"points\": 130,},\n",
    "          {\"name\": \"Mary\",\"points\": 120,},\n",
    "          {\"name\": \"Kate\",\"points\": 120,},]\n",
    "\n",
    "# input_ = [{\"name\": \"Bob\",\"points\": 130,},\n",
    "#           {\"name\": \"Mary\",\"points\": 120,},\n",
    "#           {\"name\": \"John\",\"points\": 100,},]\n",
    "\n",
    "# input_ = [{'name': 'Bob', 'points': 100},\n",
    "#           {'name': 'John', 'points': 100}, \n",
    "#           {'name': 'Mary', 'points': 100}]\n",
    "\n",
    "# input_ = [{\"name\": \"Joe\", \"points\": 100}]\n",
    "\n",
    "# input_ = []\n",
    "\n",
    "type(input_)"
   ]
  },
  {
   "cell_type": "markdown",
   "metadata": {},
   "source": [
    "## Understanding the best solution"
   ]
  },
  {
   "cell_type": "code",
   "execution_count": 59,
   "metadata": {},
   "outputs": [
    {
     "data": {
      "text/plain": [
       "[{'name': 'Bob', 'points': 130, 'position': 1},\n",
       " {'name': 'Kate', 'points': 120, 'position': 2},\n",
       " {'name': 'Mary', 'points': 120, 'position': 2},\n",
       " {'name': 'John', 'points': 100, 'position': 4}]"
      ]
     },
     "execution_count": 59,
     "metadata": {},
     "output_type": "execute_result"
    }
   ],
   "source": [
    "input_.sort(key=lambda x: (-x[\"points\"], x[\"name\"]))\n",
    "\n",
    "for i, x in enumerate(input_):\n",
    "    x[\"position\"] = i + 1 if not i or x[\"points\"] < input_[i-1][\"points\"] else input_[i-1][\"position\"]\n",
    "\n",
    "input_"
   ]
  },
  {
   "cell_type": "code",
   "execution_count": 58,
   "metadata": {},
   "outputs": [
    {
     "data": {
      "text/plain": [
       "[{'name': 'Bob', 'points': 130},\n",
       " {'name': 'Mary', 'points': 120},\n",
       " {'name': 'Kate', 'points': 120},\n",
       " {'name': 'John', 'points': 100}]"
      ]
     },
     "execution_count": 58,
     "metadata": {},
     "output_type": "execute_result"
    }
   ],
   "source": [
    "input_.sort(key=lambda x: (x[\"points\"], x[\"name\"]), reverse=True)\n",
    "input_"
   ]
  },
  {
   "cell_type": "code",
   "execution_count": null,
   "metadata": {},
   "outputs": [],
   "source": []
  },
  {
   "cell_type": "code",
   "execution_count": null,
   "metadata": {},
   "outputs": [],
   "source": []
  },
  {
   "cell_type": "code",
   "execution_count": null,
   "metadata": {},
   "outputs": [],
   "source": []
  },
  {
   "cell_type": "code",
   "execution_count": null,
   "metadata": {},
   "outputs": [],
   "source": []
  }
 ],
 "metadata": {
  "kernelspec": {
   "display_name": "Python 3",
   "language": "python",
   "name": "python3"
  },
  "language_info": {
   "codemirror_mode": {
    "name": "ipython",
    "version": 3
   },
   "file_extension": ".py",
   "mimetype": "text/x-python",
   "name": "python",
   "nbconvert_exporter": "python",
   "pygments_lexer": "ipython3",
   "version": "3.6.5"
  }
 },
 "nbformat": 4,
 "nbformat_minor": 2
}
