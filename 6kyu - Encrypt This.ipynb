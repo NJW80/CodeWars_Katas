{
 "cells": [
  {
   "cell_type": "code",
   "execution_count": 14,
   "metadata": {},
   "outputs": [],
   "source": [
    "def encrypt_this(text):\n",
    "    words_list = text.split()\n",
    "    result_list = []\n",
    "\n",
    "    for word in words_list:\n",
    "        text_list = [x for x in word]\n",
    "        blank_list = ['' for x in range(len(word))]\n",
    "\n",
    "        for i in range(len(word)):\n",
    "            if i == 0: blank_list[i] = str(ord(text_list[i]))\n",
    "            elif i == 1: blank_list[i] = text_list[len(word)-1]\n",
    "            elif i == len(word)-1: blank_list[i] = text_list[1]\n",
    "            elif i < len(word): blank_list[i] = text_list[i]\n",
    "\n",
    "        new_text = ''.join(blank_list)\n",
    "        result_list.append(new_text)\n",
    "\n",
    "    result = ''.join([item + ' ' for item in result_list]).strip()\n",
    "    return result"
   ]
  },
  {
   "cell_type": "code",
   "execution_count": 16,
   "metadata": {},
   "outputs": [
    {
     "name": "stdout",
     "output_type": "stream",
     "text": [
      "104olle 119drlo\n"
     ]
    }
   ],
   "source": [
    "print(encrypt_this('hello world'))"
   ]
  }
 ],
 "metadata": {
  "kernelspec": {
   "display_name": "Python 3",
   "language": "python",
   "name": "python3"
  },
  "language_info": {
   "codemirror_mode": {
    "name": "ipython",
    "version": 3
   },
   "file_extension": ".py",
   "mimetype": "text/x-python",
   "name": "python",
   "nbconvert_exporter": "python",
   "pygments_lexer": "ipython3",
   "version": "3.6.5"
  }
 },
 "nbformat": 4,
 "nbformat_minor": 2
}
