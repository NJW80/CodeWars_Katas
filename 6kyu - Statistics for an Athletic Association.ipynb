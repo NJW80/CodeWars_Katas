{
 "cells": [
  {
   "cell_type": "code",
   "execution_count": 15,
   "metadata": {},
   "outputs": [],
   "source": [
    "import datetime\n",
    "from datetime import timedelta\n",
    "import numpy as np"
   ]
  },
  {
   "cell_type": "code",
   "execution_count": 68,
   "metadata": {},
   "outputs": [
    {
     "name": "stdout",
     "output_type": "stream",
     "text": [
      "02:48:00\n"
     ]
    }
   ],
   "source": [
    "a = \"01|00|00, 1|00|00, 3|00|00, 04|00|00, 5|00|00\"\n",
    "\n",
    "times = np.array([int(b.rstrip(',').split('|')[0]) * 3600 +\n",
    "         int(b.rstrip(',').split('|')[1]) * 60 +\n",
    "         int(b.rstrip(',').split('|')[2]) \n",
    "         for b in a.split(' ')])\n",
    "\n",
    "_mean = str(timedelta(seconds=times.mean())).zfill(8)\n",
    "print(_mean)\n",
    "_hours = times.mean() // 3600\n",
    "\n",
    "# print(timedelta(seconds=times.mean()))\n",
    "\n",
    "# print()\n",
    "\n",
    "# print(\"Mean: {}\".format(str(timedelta(seconds=times.mean()))))\n",
    "# print(\"Median: {}\".format(str(timedelta(seconds=np.median(times)))))\n",
    "# print(\"Range: {}\".format(str(timedelta(seconds=(float(times.max() - times.min()))))))"
   ]
  },
  {
   "cell_type": "code",
   "execution_count": 33,
   "metadata": {},
   "outputs": [
    {
     "name": "stdout",
     "output_type": "stream",
     "text": [
      "2:48:00\n",
      "4:00:00\n"
     ]
    }
   ],
   "source": [
    "mean_times = str(timedelta(seconds=sum(times)/len(times)))\n",
    "print(mean_times)\n",
    "\n",
    "range_times = str(timedelta(seconds=float(max(times) - min(times))))\n",
    "print(range_times)\n",
    "# mean_seconds = sum(seconds)/len(seconds)\n",
    "# print(mean_seconds)"
   ]
  },
  {
   "cell_type": "code",
   "execution_count": 36,
   "metadata": {},
   "outputs": [
    {
     "name": "stdout",
     "output_type": "stream",
     "text": [
      "Mean: 2:48:00\n",
      "Median: 3:00:00\n",
      "Range: 4:00:00\n"
     ]
    }
   ],
   "source": [
    "print(\"Mean: {}\".format(str(timedelta(seconds=times.mean()))))\n",
    "print(\"Median: {}\".format(str(timedelta(seconds=np.median(times)))))\n",
    "print(\"Range: {}\".format(str(timedelta(seconds=(float(times.max() - times.min()))))))"
   ]
  },
  {
   "cell_type": "code",
   "execution_count": 75,
   "metadata": {},
   "outputs": [],
   "source": [
    "import datetime\n",
    "from datetime import timedelta\n",
    "import numpy as np\n",
    "\n",
    "def stat(times):\n",
    "    if times == '':\n",
    "        results = ''\n",
    "    else:\n",
    "        times_seconds = np.array([int(b.rstrip(',').split('|')[0]) * 3600 +\n",
    "                 int(b.rstrip(',').split('|')[1]) * 60 +\n",
    "                 int(b.rstrip(',').split('|')[2]) \n",
    "                 for b in times.split(' ')])\n",
    "        _mean = str(timedelta(seconds=times_seconds.mean())).replace(':','|').split('.')[0].zfill(8)\n",
    "        _median = str(timedelta(seconds=np.median(times_seconds))).replace(':','|').split('.')[0].zfill(8)\n",
    "        _range = str(timedelta(seconds=(float(times_seconds.max() - times_seconds.min())))).replace(':','|').split('.')[0].zfill(8)\n",
    "        result = \"Range: {0} Average: {1} Median: {2}\".format(_range, _mean, _median)\n",
    "    return result\n",
    "#     \"Range: 01|01|18 Average: 01|38|05 Median: 01|32|34\"\n",
    "#     print(\"Mean: {}\".format(str(timedelta(seconds=times_seconds.mean()))))\n",
    "#     print(\"Median: {}\".format(str(timedelta(seconds=np.median(times_seconds)))))\n",
    "#     print(\"Range: {}\".format(str(timedelta(seconds=(float(times_seconds.max() - times_seconds.min()))))))\n",
    "\n",
    "# 'Range: 01|01|18 Average: 1|38|05.200000 Median: 01|32|34'"
   ]
  },
  {
   "cell_type": "code",
   "execution_count": 76,
   "metadata": {},
   "outputs": [
    {
     "name": "stdout",
     "output_type": "stream",
     "text": [
      "Range: 04|00|00 Average: 02|48|00 Median: 03|00|00\n"
     ]
    }
   ],
   "source": [
    "print(stat(\"01|00|00, 1|00|00, 3|00|00, 04|00|00, 05|00|00\"))"
   ]
  },
  {
   "cell_type": "code",
   "execution_count": null,
   "metadata": {},
   "outputs": [],
   "source": []
  }
 ],
 "metadata": {
  "kernelspec": {
   "display_name": "Python 3",
   "language": "python",
   "name": "python3"
  },
  "language_info": {
   "codemirror_mode": {
    "name": "ipython",
    "version": 3
   },
   "file_extension": ".py",
   "mimetype": "text/x-python",
   "name": "python",
   "nbconvert_exporter": "python",
   "pygments_lexer": "ipython3",
   "version": "3.6.5"
  }
 },
 "nbformat": 4,
 "nbformat_minor": 2
}
