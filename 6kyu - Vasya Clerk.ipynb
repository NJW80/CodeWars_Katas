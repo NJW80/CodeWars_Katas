{
 "cells": [
  {
   "cell_type": "code",
   "execution_count": 10,
   "metadata": {},
   "outputs": [],
   "source": [
    "n25 = 0\n",
    "n50 = 0\n",
    "n100 = 0"
   ]
  },
  {
   "cell_type": "code",
   "execution_count": 121,
   "metadata": {},
   "outputs": [
    {
     "name": "stdout",
     "output_type": "stream",
     "text": [
      "{100: 0, 50: 0, 25: 1}\n",
      "{100: 0, 50: 0, 25: 2}\n",
      "{100: 0, 50: 1, 25: 2}\n"
     ]
    }
   ],
   "source": [
    "till = {100:0, 50:0, 25:0}\n",
    "customers = [25,25,50]\n",
    "\n",
    "for c in customers:\n",
    "    till[c] += 1\n",
    "    change = c - 25\n",
    "    print(till)"
   ]
  },
  {
   "cell_type": "code",
   "execution_count": 186,
   "metadata": {},
   "outputs": [
    {
     "data": {
      "text/plain": [
       "'YES'"
      ]
     },
     "execution_count": 186,
     "metadata": {},
     "output_type": "execute_result"
    }
   ],
   "source": [
    "def change(till, change):  \n",
    "    if change >= 25: max25 = int(change/25)\n",
    "    else: max25 = 0\n",
    "    if change >= 50: max50 = int(change/50)\n",
    "    else: max50 = 0\n",
    "    if change >= 100: max100 = int(change/100)\n",
    "    else: max100 = 0\n",
    "\n",
    "    n25s, n50s, n100s = 0, 0 ,0\n",
    "\n",
    "    if change == 25 and till[25] > 0:\n",
    "        till[25] = till[25] - 1\n",
    "        return \"PASS\"\n",
    "    elif change == 25 and till[25] == 0:\n",
    "        return \"FAIL\"\n",
    "    else:\n",
    "        for n25s in range(0,max25+1,2):\n",
    "            for n50s in range(0,max50+1):\n",
    "                for n100s in range(0, max100+1): \n",
    "                    if (n25s * 25) + (n50s * 50) + (n100s * 100) == change:\n",
    "                        if till[100] >= n100s and till[50] >= n50s and till[25] >= n25s:\n",
    "                            till[100] = till[100] - n100s\n",
    "                            till[50]  = till[50] - n50s \n",
    "                            till[25]  = till[25] - n25s\n",
    "                            return \"PASS\"\n",
    "                        else:\n",
    "                            return \"FAIL\"\n",
    "\n",
    "def tickets(customers):\n",
    "    for c in customers:\n",
    "        t[c] += 1\n",
    "        ch = c - 25\n",
    "#         print(\"Current till:\")\n",
    "#         print(t)\n",
    "#         print(\"Change required: {}\".format(ch))\n",
    "#         print(change(t, ch))\n",
    "#         print()\n",
    "#         print(\"Current till:\")\n",
    "#         print(t)\n",
    "        if change(t, ch) == \"FAIL\":\n",
    "            result = \"NO\"\n",
    "        else:\n",
    "            result = \"YES\"\n",
    "    return result\n",
    "        \n",
    "t = {100:0, 50:0, 25:0}\n",
    "\n",
    "tickets([25, 100])\n"
   ]
  },
  {
   "cell_type": "code",
   "execution_count": 327,
   "metadata": {},
   "outputs": [
    {
     "name": "stdout",
     "output_type": "stream",
     "text": [
      "YES: YES\n",
      "NO: NO\n",
      "YES: YES\n",
      "NO: NO\n",
      "NO: NO\n",
      "YES: YES\n",
      "YES: YES\n",
      "NO: NO\n"
     ]
    }
   ],
   "source": [
    "def tickets(customers):\n",
    "    till = {100:0, 50:0, 25:0}\n",
    "    for c in customers:\n",
    "        till[c] += 1\n",
    "        change = c - 25\n",
    "        customer_served = \"NO\"\n",
    "\n",
    "        if change == 0:\n",
    "            customer_served = \"YES\"\n",
    "        else:\n",
    "            for n25s in range(0,int(change/25)+1):\n",
    "                for n50s in range(0,int(change/50)+1):\n",
    "                    for n100s in range(0, int(change/100)+1): \n",
    "                        if (n25s * 25) + (n50s * 50) + (n100s * 100) == change and customer_served == \"NO\":\n",
    "                            if till[100] >= n100s and till[50] >= n50s and till[25] >= n25s:\n",
    "                                till[100] = till[100] - n100s\n",
    "                                till[50]  = till[50] - n50s \n",
    "                                till[25]  = till[25] - n25s\n",
    "                                customer_served = \"YES\"     \n",
    "    return customer_served\n",
    "\n",
    "print(\"YES: \" + tickets([25, 25, 50]))\n",
    "print(\"NO: \" + tickets([25, 100]))\n",
    "print(\"YES: \" + tickets([25, 25, 25, 25, 25, 25, 25, 25, 25, 25]))\n",
    "print(\"NO: \" + tickets([50, 50, 50, 50, 50, 50, 50, 50, 50, 50]))\n",
    "print(\"NO: \" + tickets([100, 100, 100, 100, 100, 100, 100, 100, 100, 100]))\n",
    "print(\"YES: \" + tickets([25, 25, 25, 25, 50, 100, 50]))\n",
    "print(\"YES: \" + tickets([25, 25, 25, 100]))\n",
    "print(\"NO: \" + tickets([25, 25, 25, 25, 25, 25, 25, 50, 50, 50, 100, 100, 100, 100]))\n",
    "\n",
    "\n",
    "\n",
    "\n"
   ]
  },
  {
   "cell_type": "code",
   "execution_count": 325,
   "metadata": {},
   "outputs": [
    {
     "name": "stdout",
     "output_type": "stream",
     "text": [
      "3\n",
      "1\n",
      "0\n"
     ]
    }
   ],
   "source": [
    "change = 90\n",
    "print(int(change/25))\n",
    "print(int(change/50))\n",
    "print(int(change/100))"
   ]
  },
  {
   "cell_type": "code",
   "execution_count": null,
   "metadata": {},
   "outputs": [],
   "source": []
  },
  {
   "cell_type": "code",
   "execution_count": null,
   "metadata": {},
   "outputs": [],
   "source": []
  }
 ],
 "metadata": {
  "kernelspec": {
   "display_name": "Python 3",
   "language": "python",
   "name": "python3"
  },
  "language_info": {
   "codemirror_mode": {
    "name": "ipython",
    "version": 3
   },
   "file_extension": ".py",
   "mimetype": "text/x-python",
   "name": "python",
   "nbconvert_exporter": "python",
   "pygments_lexer": "ipython3",
   "version": "3.6.5"
  }
 },
 "nbformat": 4,
 "nbformat_minor": 2
}
