{
 "cells": [
  {
   "cell_type": "code",
   "execution_count": 1,
   "metadata": {},
   "outputs": [],
   "source": [
    "def range_bit_count(a,b, total_bits = 0):\n",
    "    return sum([str(bin(i))[2:].count('1') for i in range(a,b+1)])\n",
    "\n",
    "#     return sum([str(bin(i)).count('1') for i in range(a,b+1)]) # don't need the [2:] slicing as '0b' won't contribute to count"
   ]
  },
  {
   "cell_type": "code",
   "execution_count": 3,
   "metadata": {},
   "outputs": [
    {
     "name": "stdout",
     "output_type": "stream",
     "text": [
      "11\n",
      "\n",
      "1\n",
      "\n",
      "1\n",
      "\n"
     ]
    }
   ],
   "source": [
    "print(range_bit_count(2,7))\n",
    "print()\n",
    "\n",
    "print(range_bit_count(0,1))\n",
    "print()\n",
    "\n",
    "print(range_bit_count(4,4))\n",
    "print()"
   ]
  },
  {
   "cell_type": "code",
   "execution_count": 1,
   "metadata": {},
   "outputs": [
    {
     "name": "stdout",
     "output_type": "stream",
     "text": [
      "Test\n"
     ]
    }
   ],
   "source": [
    "print(\"Test\")"
   ]
  },
  {
   "cell_type": "code",
   "execution_count": null,
   "metadata": {},
   "outputs": [],
   "source": []
  }
 ],
 "metadata": {
  "kernelspec": {
   "display_name": "Python 3",
   "language": "python",
   "name": "python3"
  },
  "language_info": {
   "codemirror_mode": {
    "name": "ipython",
    "version": 3
   },
   "file_extension": ".py",
   "mimetype": "text/x-python",
   "name": "python",
   "nbconvert_exporter": "python",
   "pygments_lexer": "ipython3",
   "version": "3.6.5"
  }
 },
 "nbformat": 4,
 "nbformat_minor": 2
}
